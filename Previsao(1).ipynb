{
 "cells": [
  {
   "cell_type": "code",
   "execution_count": 2,
   "id": "cbfc1dd7-53ea-4d2c-8071-9ef612b2ec3a",
   "metadata": {},
   "outputs": [],
   "source": [
    "import tabula\n",
    "import numpy as np\n",
    "import PyPDF2\n",
    "import pandas as pd\n",
    "import os"
   ]
  },
  {
   "cell_type": "code",
   "execution_count": 3,
   "id": "5c7c11dc-791d-43b5-bc61-5bfdfbf29c26",
   "metadata": {},
   "outputs": [],
   "source": [
    "df_V0 = pd.read_csv('historicos1.csv')"
   ]
  },
  {
   "cell_type": "code",
   "execution_count": 4,
   "id": "eee9797e-2951-4b96-a954-3cf0385789ee",
   "metadata": {},
   "outputs": [
    {
     "data": {
      "text/plain": [
       "Index(['1_c', '1_f', '1_n', '2_c', '2_f', '2_n', '3_c', '3_f', '3_n', 'y',\n",
       "       '4_c', '4_f', '4_n', '5_c', '5_f', '5_n', '6_c', '6_f', '6_n', '7_c',\n",
       "       '7_f', '7_n', '8_c', '8_f', '8_n', '9_c', '9_f', '9_n', '10_c', '10_f',\n",
       "       '10_n', '11_c', '11_f', '11_n', '12_c', '12_f', '12_n', '13_c', '13_f',\n",
       "       '13_n', '14_c', '14_f', '14_n', '15_c', '15_f', '15_n', '16_c', '16_f',\n",
       "       '16_n', '17_c', '17_f', '17_n', '18_c', '18_f', '18_n', '19_c', '19_f',\n",
       "       '19_n'],\n",
       "      dtype='object')"
      ]
     },
     "execution_count": 4,
     "metadata": {},
     "output_type": "execute_result"
    }
   ],
   "source": [
    "df_V0.columns"
   ]
  },
  {
   "cell_type": "code",
   "execution_count": 11,
   "id": "dfdb3958-ee90-4e5e-9f2d-c67d98ec0a43",
   "metadata": {},
   "outputs": [],
   "source": [
    "# Supondo que df é o seu DataFrame\n",
    "colunas_para_deletar_V8 = ['9_c', '9_f', '9_n', '10_c', '10_f', '10_n', '11_c', '11_f', '11_n', '12_c', '12_f', '12_n', '13_c', '13_f', '13_n', '14_c', '14_f', '14_n', '15_c', '15_f', '15_n', '16_c', '16_f', '16_n', '17_c', '17_f', '17_n', '18_c', '18_f', '18_n', '19_c', '19_f', '19_n']\n",
    "\n",
    "# Deletando as colunas\n",
    "df_V8 = df_V0.drop(columns=colunas_para_deletar_V8)\n"
   ]
  },
  {
   "cell_type": "code",
   "execution_count": 10,
   "id": "9c3f0d55-0b25-41a9-930b-30a46af1aa2e",
   "metadata": {},
   "outputs": [],
   "source": [
    "# Supondo que df é o seu DataFrame\n",
    "colunas_para_deletar_V2 = ['3_c', '3_f', '3_n','4_c', '4_f', '4_n', '5_c', '5_f', '5_n', '6_c', '6_f', '6_n', '7_c',\n",
    "       '7_f', '7_n', '8_c', '8_f', '8_n', '9_c', '9_f', '9_n', '10_c', '10_f', '10_n', '11_c', '11_f', '11_n', '12_c', '12_f', '12_n', '13_c', '13_f', '13_n', '14_c', '14_f', '14_n', '15_c', '15_f', '15_n', '16_c', '16_f', '16_n', '17_c', '17_f', '17_n', '18_c', '18_f', '18_n', '19_c', '19_f', '19_n']\n",
    "\n",
    "# Deletando as colunas\n",
    "df_V2 = df_V0.drop(columns=colunas_para_deletar_V2)\n"
   ]
  },
  {
   "cell_type": "code",
   "execution_count": 5,
   "id": "e29b8703-6f86-44ac-9929-9a4b349550ba",
   "metadata": {},
   "outputs": [],
   "source": [
    "colunas_para_deletar_V1 = [ '2_c', '2_f', '2_n','3_c', '3_f', '3_n','4_c', '4_f', '4_n', '5_c', '5_f', '5_n', '6_c', '6_f', '6_n', '7_c',\n",
    "       '7_f', '7_n', '8_c', '8_f', '8_n', '9_c', '9_f', '9_n', '10_c', '10_f', '10_n', '11_c', '11_f', '11_n', '12_c', '12_f', '12_n', '13_c', '13_f', '13_n', '14_c', '14_f', '14_n', '15_c', '15_f', '15_n', '16_c', '16_f', '16_n', '17_c', '17_f', '17_n', '18_c', '18_f', '18_n', '19_c', '19_f', '19_n']\n",
    "\n",
    "# Deletando as colunas\n",
    "df_V1 = df_V0.drop(columns=colunas_para_deletar_V1)\n"
   ]
  },
  {
   "cell_type": "code",
   "execution_count": null,
   "id": "9b46ff89-c6ef-4bef-b922-f0714e593b55",
   "metadata": {},
   "outputs": [],
   "source": []
  },
  {
   "cell_type": "code",
   "execution_count": 6,
   "id": "f6108fc5-9c29-4ebb-8918-36438fedfe9b",
   "metadata": {},
   "outputs": [
    {
     "data": {
      "text/html": [
       "<div>\n",
       "<style scoped>\n",
       "    .dataframe tbody tr th:only-of-type {\n",
       "        vertical-align: middle;\n",
       "    }\n",
       "\n",
       "    .dataframe tbody tr th {\n",
       "        vertical-align: top;\n",
       "    }\n",
       "\n",
       "    .dataframe thead th {\n",
       "        text-align: right;\n",
       "    }\n",
       "</style>\n",
       "<table border=\"1\" class=\"dataframe\">\n",
       "  <thead>\n",
       "    <tr style=\"text-align: right;\">\n",
       "      <th></th>\n",
       "      <th>1_c</th>\n",
       "      <th>1_f</th>\n",
       "      <th>1_n</th>\n",
       "      <th>y</th>\n",
       "    </tr>\n",
       "  </thead>\n",
       "  <tbody>\n",
       "    <tr>\n",
       "      <th>0</th>\n",
       "      <td>58.666667</td>\n",
       "      <td>69.443333</td>\n",
       "      <td>2.700000</td>\n",
       "      <td>1</td>\n",
       "    </tr>\n",
       "    <tr>\n",
       "      <th>1</th>\n",
       "      <td>58.666667</td>\n",
       "      <td>95.483333</td>\n",
       "      <td>6.083333</td>\n",
       "      <td>1</td>\n",
       "    </tr>\n",
       "    <tr>\n",
       "      <th>2</th>\n",
       "      <td>57.600000</td>\n",
       "      <td>74.998000</td>\n",
       "      <td>1.020000</td>\n",
       "      <td>1</td>\n",
       "    </tr>\n",
       "    <tr>\n",
       "      <th>3</th>\n",
       "      <td>64.000000</td>\n",
       "      <td>37.500000</td>\n",
       "      <td>0.000000</td>\n",
       "      <td>1</td>\n",
       "    </tr>\n",
       "    <tr>\n",
       "      <th>4</th>\n",
       "      <td>58.666667</td>\n",
       "      <td>91.838333</td>\n",
       "      <td>4.766667</td>\n",
       "      <td>1</td>\n",
       "    </tr>\n",
       "    <tr>\n",
       "      <th>...</th>\n",
       "      <td>...</td>\n",
       "      <td>...</td>\n",
       "      <td>...</td>\n",
       "      <td>...</td>\n",
       "    </tr>\n",
       "    <tr>\n",
       "      <th>263</th>\n",
       "      <td>58.666667</td>\n",
       "      <td>92.013333</td>\n",
       "      <td>6.483333</td>\n",
       "      <td>1</td>\n",
       "    </tr>\n",
       "    <tr>\n",
       "      <th>264</th>\n",
       "      <td>58.666667</td>\n",
       "      <td>88.541667</td>\n",
       "      <td>6.666667</td>\n",
       "      <td>1</td>\n",
       "    </tr>\n",
       "    <tr>\n",
       "      <th>265</th>\n",
       "      <td>58.666667</td>\n",
       "      <td>90.450000</td>\n",
       "      <td>5.083333</td>\n",
       "      <td>1</td>\n",
       "    </tr>\n",
       "    <tr>\n",
       "      <th>266</th>\n",
       "      <td>58.666667</td>\n",
       "      <td>94.963333</td>\n",
       "      <td>6.766667</td>\n",
       "      <td>1</td>\n",
       "    </tr>\n",
       "    <tr>\n",
       "      <th>267</th>\n",
       "      <td>62.315789</td>\n",
       "      <td>92.212749</td>\n",
       "      <td>8.752632</td>\n",
       "      <td>1</td>\n",
       "    </tr>\n",
       "  </tbody>\n",
       "</table>\n",
       "<p>268 rows × 4 columns</p>\n",
       "</div>"
      ],
      "text/plain": [
       "           1_c        1_f       1_n  y\n",
       "0    58.666667  69.443333  2.700000  1\n",
       "1    58.666667  95.483333  6.083333  1\n",
       "2    57.600000  74.998000  1.020000  1\n",
       "3    64.000000  37.500000  0.000000  1\n",
       "4    58.666667  91.838333  4.766667  1\n",
       "..         ...        ...       ... ..\n",
       "263  58.666667  92.013333  6.483333  1\n",
       "264  58.666667  88.541667  6.666667  1\n",
       "265  58.666667  90.450000  5.083333  1\n",
       "266  58.666667  94.963333  6.766667  1\n",
       "267  62.315789  92.212749  8.752632  1\n",
       "\n",
       "[268 rows x 4 columns]"
      ]
     },
     "execution_count": 6,
     "metadata": {},
     "output_type": "execute_result"
    }
   ],
   "source": [
    "df_V1"
   ]
  },
  {
   "cell_type": "code",
   "execution_count": 7,
   "id": "8645add9-1a91-428e-bbf5-6ca8055d4295",
   "metadata": {},
   "outputs": [
    {
     "name": "stdout",
     "output_type": "stream",
     "text": [
      "Número de linhas com valores NaN: 0\n"
     ]
    }
   ],
   "source": [
    "# Contando o número de linhas com valores NaN\n",
    "num_linhas_nan = df_V1.isnull().any(axis=1).sum()\n",
    "print(f'Número de linhas com valores NaN: {num_linhas_nan}')\n"
   ]
  },
  {
   "cell_type": "code",
   "execution_count": 27,
   "id": "dd977abe-f683-4628-b4ad-0cb4ba910329",
   "metadata": {},
   "outputs": [],
   "source": [
    "import pandas as pd\n",
    "from sklearn.model_selection import train_test_split\n",
    "from sklearn.ensemble import RandomForestClassifier\n",
    "from sklearn.metrics import accuracy_score\n",
    "import matplotlib.pyplot as plt\n",
    "# Definindo as variáveis independentes (X) e a variável alvo (y)\n",
    "X = df_V1.drop('y', axis=1)  # Substitua 'target' pelo nome da sua variável alvo\n",
    "y = df_V1['y']\n",
    "X_train, X_test, y_train, y_test = train_test_split(X, y, test_size=0.2, random_state=42)"
   ]
  },
  {
   "cell_type": "code",
   "execution_count": 10,
   "id": "386f5700-9446-4b88-aa96-dd0640f5a05f",
   "metadata": {},
   "outputs": [],
   "source": []
  },
  {
   "cell_type": "code",
   "execution_count": 28,
   "id": "7a2c54f6-a015-4f67-bdac-31ee5856a7fc",
   "metadata": {},
   "outputs": [
    {
     "data": {
      "text/html": [
       "<style>#sk-container-id-2 {\n",
       "  /* Definition of color scheme common for light and dark mode */\n",
       "  --sklearn-color-text: #000;\n",
       "  --sklearn-color-text-muted: #666;\n",
       "  --sklearn-color-line: gray;\n",
       "  /* Definition of color scheme for unfitted estimators */\n",
       "  --sklearn-color-unfitted-level-0: #fff5e6;\n",
       "  --sklearn-color-unfitted-level-1: #f6e4d2;\n",
       "  --sklearn-color-unfitted-level-2: #ffe0b3;\n",
       "  --sklearn-color-unfitted-level-3: chocolate;\n",
       "  /* Definition of color scheme for fitted estimators */\n",
       "  --sklearn-color-fitted-level-0: #f0f8ff;\n",
       "  --sklearn-color-fitted-level-1: #d4ebff;\n",
       "  --sklearn-color-fitted-level-2: #b3dbfd;\n",
       "  --sklearn-color-fitted-level-3: cornflowerblue;\n",
       "\n",
       "  /* Specific color for light theme */\n",
       "  --sklearn-color-text-on-default-background: var(--sg-text-color, var(--theme-code-foreground, var(--jp-content-font-color1, black)));\n",
       "  --sklearn-color-background: var(--sg-background-color, var(--theme-background, var(--jp-layout-color0, white)));\n",
       "  --sklearn-color-border-box: var(--sg-text-color, var(--theme-code-foreground, var(--jp-content-font-color1, black)));\n",
       "  --sklearn-color-icon: #696969;\n",
       "\n",
       "  @media (prefers-color-scheme: dark) {\n",
       "    /* Redefinition of color scheme for dark theme */\n",
       "    --sklearn-color-text-on-default-background: var(--sg-text-color, var(--theme-code-foreground, var(--jp-content-font-color1, white)));\n",
       "    --sklearn-color-background: var(--sg-background-color, var(--theme-background, var(--jp-layout-color0, #111)));\n",
       "    --sklearn-color-border-box: var(--sg-text-color, var(--theme-code-foreground, var(--jp-content-font-color1, white)));\n",
       "    --sklearn-color-icon: #878787;\n",
       "  }\n",
       "}\n",
       "\n",
       "#sk-container-id-2 {\n",
       "  color: var(--sklearn-color-text);\n",
       "}\n",
       "\n",
       "#sk-container-id-2 pre {\n",
       "  padding: 0;\n",
       "}\n",
       "\n",
       "#sk-container-id-2 input.sk-hidden--visually {\n",
       "  border: 0;\n",
       "  clip: rect(1px 1px 1px 1px);\n",
       "  clip: rect(1px, 1px, 1px, 1px);\n",
       "  height: 1px;\n",
       "  margin: -1px;\n",
       "  overflow: hidden;\n",
       "  padding: 0;\n",
       "  position: absolute;\n",
       "  width: 1px;\n",
       "}\n",
       "\n",
       "#sk-container-id-2 div.sk-dashed-wrapped {\n",
       "  border: 1px dashed var(--sklearn-color-line);\n",
       "  margin: 0 0.4em 0.5em 0.4em;\n",
       "  box-sizing: border-box;\n",
       "  padding-bottom: 0.4em;\n",
       "  background-color: var(--sklearn-color-background);\n",
       "}\n",
       "\n",
       "#sk-container-id-2 div.sk-container {\n",
       "  /* jupyter's `normalize.less` sets `[hidden] { display: none; }`\n",
       "     but bootstrap.min.css set `[hidden] { display: none !important; }`\n",
       "     so we also need the `!important` here to be able to override the\n",
       "     default hidden behavior on the sphinx rendered scikit-learn.org.\n",
       "     See: https://github.com/scikit-learn/scikit-learn/issues/21755 */\n",
       "  display: inline-block !important;\n",
       "  position: relative;\n",
       "}\n",
       "\n",
       "#sk-container-id-2 div.sk-text-repr-fallback {\n",
       "  display: none;\n",
       "}\n",
       "\n",
       "div.sk-parallel-item,\n",
       "div.sk-serial,\n",
       "div.sk-item {\n",
       "  /* draw centered vertical line to link estimators */\n",
       "  background-image: linear-gradient(var(--sklearn-color-text-on-default-background), var(--sklearn-color-text-on-default-background));\n",
       "  background-size: 2px 100%;\n",
       "  background-repeat: no-repeat;\n",
       "  background-position: center center;\n",
       "}\n",
       "\n",
       "/* Parallel-specific style estimator block */\n",
       "\n",
       "#sk-container-id-2 div.sk-parallel-item::after {\n",
       "  content: \"\";\n",
       "  width: 100%;\n",
       "  border-bottom: 2px solid var(--sklearn-color-text-on-default-background);\n",
       "  flex-grow: 1;\n",
       "}\n",
       "\n",
       "#sk-container-id-2 div.sk-parallel {\n",
       "  display: flex;\n",
       "  align-items: stretch;\n",
       "  justify-content: center;\n",
       "  background-color: var(--sklearn-color-background);\n",
       "  position: relative;\n",
       "}\n",
       "\n",
       "#sk-container-id-2 div.sk-parallel-item {\n",
       "  display: flex;\n",
       "  flex-direction: column;\n",
       "}\n",
       "\n",
       "#sk-container-id-2 div.sk-parallel-item:first-child::after {\n",
       "  align-self: flex-end;\n",
       "  width: 50%;\n",
       "}\n",
       "\n",
       "#sk-container-id-2 div.sk-parallel-item:last-child::after {\n",
       "  align-self: flex-start;\n",
       "  width: 50%;\n",
       "}\n",
       "\n",
       "#sk-container-id-2 div.sk-parallel-item:only-child::after {\n",
       "  width: 0;\n",
       "}\n",
       "\n",
       "/* Serial-specific style estimator block */\n",
       "\n",
       "#sk-container-id-2 div.sk-serial {\n",
       "  display: flex;\n",
       "  flex-direction: column;\n",
       "  align-items: center;\n",
       "  background-color: var(--sklearn-color-background);\n",
       "  padding-right: 1em;\n",
       "  padding-left: 1em;\n",
       "}\n",
       "\n",
       "\n",
       "/* Toggleable style: style used for estimator/Pipeline/ColumnTransformer box that is\n",
       "clickable and can be expanded/collapsed.\n",
       "- Pipeline and ColumnTransformer use this feature and define the default style\n",
       "- Estimators will overwrite some part of the style using the `sk-estimator` class\n",
       "*/\n",
       "\n",
       "/* Pipeline and ColumnTransformer style (default) */\n",
       "\n",
       "#sk-container-id-2 div.sk-toggleable {\n",
       "  /* Default theme specific background. It is overwritten whether we have a\n",
       "  specific estimator or a Pipeline/ColumnTransformer */\n",
       "  background-color: var(--sklearn-color-background);\n",
       "}\n",
       "\n",
       "/* Toggleable label */\n",
       "#sk-container-id-2 label.sk-toggleable__label {\n",
       "  cursor: pointer;\n",
       "  display: flex;\n",
       "  width: 100%;\n",
       "  margin-bottom: 0;\n",
       "  padding: 0.5em;\n",
       "  box-sizing: border-box;\n",
       "  text-align: center;\n",
       "  align-items: start;\n",
       "  justify-content: space-between;\n",
       "  gap: 0.5em;\n",
       "}\n",
       "\n",
       "#sk-container-id-2 label.sk-toggleable__label .caption {\n",
       "  font-size: 0.6rem;\n",
       "  font-weight: lighter;\n",
       "  color: var(--sklearn-color-text-muted);\n",
       "}\n",
       "\n",
       "#sk-container-id-2 label.sk-toggleable__label-arrow:before {\n",
       "  /* Arrow on the left of the label */\n",
       "  content: \"▸\";\n",
       "  float: left;\n",
       "  margin-right: 0.25em;\n",
       "  color: var(--sklearn-color-icon);\n",
       "}\n",
       "\n",
       "#sk-container-id-2 label.sk-toggleable__label-arrow:hover:before {\n",
       "  color: var(--sklearn-color-text);\n",
       "}\n",
       "\n",
       "/* Toggleable content - dropdown */\n",
       "\n",
       "#sk-container-id-2 div.sk-toggleable__content {\n",
       "  max-height: 0;\n",
       "  max-width: 0;\n",
       "  overflow: hidden;\n",
       "  text-align: left;\n",
       "  /* unfitted */\n",
       "  background-color: var(--sklearn-color-unfitted-level-0);\n",
       "}\n",
       "\n",
       "#sk-container-id-2 div.sk-toggleable__content.fitted {\n",
       "  /* fitted */\n",
       "  background-color: var(--sklearn-color-fitted-level-0);\n",
       "}\n",
       "\n",
       "#sk-container-id-2 div.sk-toggleable__content pre {\n",
       "  margin: 0.2em;\n",
       "  border-radius: 0.25em;\n",
       "  color: var(--sklearn-color-text);\n",
       "  /* unfitted */\n",
       "  background-color: var(--sklearn-color-unfitted-level-0);\n",
       "}\n",
       "\n",
       "#sk-container-id-2 div.sk-toggleable__content.fitted pre {\n",
       "  /* unfitted */\n",
       "  background-color: var(--sklearn-color-fitted-level-0);\n",
       "}\n",
       "\n",
       "#sk-container-id-2 input.sk-toggleable__control:checked~div.sk-toggleable__content {\n",
       "  /* Expand drop-down */\n",
       "  max-height: 200px;\n",
       "  max-width: 100%;\n",
       "  overflow: auto;\n",
       "}\n",
       "\n",
       "#sk-container-id-2 input.sk-toggleable__control:checked~label.sk-toggleable__label-arrow:before {\n",
       "  content: \"▾\";\n",
       "}\n",
       "\n",
       "/* Pipeline/ColumnTransformer-specific style */\n",
       "\n",
       "#sk-container-id-2 div.sk-label input.sk-toggleable__control:checked~label.sk-toggleable__label {\n",
       "  color: var(--sklearn-color-text);\n",
       "  background-color: var(--sklearn-color-unfitted-level-2);\n",
       "}\n",
       "\n",
       "#sk-container-id-2 div.sk-label.fitted input.sk-toggleable__control:checked~label.sk-toggleable__label {\n",
       "  background-color: var(--sklearn-color-fitted-level-2);\n",
       "}\n",
       "\n",
       "/* Estimator-specific style */\n",
       "\n",
       "/* Colorize estimator box */\n",
       "#sk-container-id-2 div.sk-estimator input.sk-toggleable__control:checked~label.sk-toggleable__label {\n",
       "  /* unfitted */\n",
       "  background-color: var(--sklearn-color-unfitted-level-2);\n",
       "}\n",
       "\n",
       "#sk-container-id-2 div.sk-estimator.fitted input.sk-toggleable__control:checked~label.sk-toggleable__label {\n",
       "  /* fitted */\n",
       "  background-color: var(--sklearn-color-fitted-level-2);\n",
       "}\n",
       "\n",
       "#sk-container-id-2 div.sk-label label.sk-toggleable__label,\n",
       "#sk-container-id-2 div.sk-label label {\n",
       "  /* The background is the default theme color */\n",
       "  color: var(--sklearn-color-text-on-default-background);\n",
       "}\n",
       "\n",
       "/* On hover, darken the color of the background */\n",
       "#sk-container-id-2 div.sk-label:hover label.sk-toggleable__label {\n",
       "  color: var(--sklearn-color-text);\n",
       "  background-color: var(--sklearn-color-unfitted-level-2);\n",
       "}\n",
       "\n",
       "/* Label box, darken color on hover, fitted */\n",
       "#sk-container-id-2 div.sk-label.fitted:hover label.sk-toggleable__label.fitted {\n",
       "  color: var(--sklearn-color-text);\n",
       "  background-color: var(--sklearn-color-fitted-level-2);\n",
       "}\n",
       "\n",
       "/* Estimator label */\n",
       "\n",
       "#sk-container-id-2 div.sk-label label {\n",
       "  font-family: monospace;\n",
       "  font-weight: bold;\n",
       "  display: inline-block;\n",
       "  line-height: 1.2em;\n",
       "}\n",
       "\n",
       "#sk-container-id-2 div.sk-label-container {\n",
       "  text-align: center;\n",
       "}\n",
       "\n",
       "/* Estimator-specific */\n",
       "#sk-container-id-2 div.sk-estimator {\n",
       "  font-family: monospace;\n",
       "  border: 1px dotted var(--sklearn-color-border-box);\n",
       "  border-radius: 0.25em;\n",
       "  box-sizing: border-box;\n",
       "  margin-bottom: 0.5em;\n",
       "  /* unfitted */\n",
       "  background-color: var(--sklearn-color-unfitted-level-0);\n",
       "}\n",
       "\n",
       "#sk-container-id-2 div.sk-estimator.fitted {\n",
       "  /* fitted */\n",
       "  background-color: var(--sklearn-color-fitted-level-0);\n",
       "}\n",
       "\n",
       "/* on hover */\n",
       "#sk-container-id-2 div.sk-estimator:hover {\n",
       "  /* unfitted */\n",
       "  background-color: var(--sklearn-color-unfitted-level-2);\n",
       "}\n",
       "\n",
       "#sk-container-id-2 div.sk-estimator.fitted:hover {\n",
       "  /* fitted */\n",
       "  background-color: var(--sklearn-color-fitted-level-2);\n",
       "}\n",
       "\n",
       "/* Specification for estimator info (e.g. \"i\" and \"?\") */\n",
       "\n",
       "/* Common style for \"i\" and \"?\" */\n",
       "\n",
       ".sk-estimator-doc-link,\n",
       "a:link.sk-estimator-doc-link,\n",
       "a:visited.sk-estimator-doc-link {\n",
       "  float: right;\n",
       "  font-size: smaller;\n",
       "  line-height: 1em;\n",
       "  font-family: monospace;\n",
       "  background-color: var(--sklearn-color-background);\n",
       "  border-radius: 1em;\n",
       "  height: 1em;\n",
       "  width: 1em;\n",
       "  text-decoration: none !important;\n",
       "  margin-left: 0.5em;\n",
       "  text-align: center;\n",
       "  /* unfitted */\n",
       "  border: var(--sklearn-color-unfitted-level-1) 1pt solid;\n",
       "  color: var(--sklearn-color-unfitted-level-1);\n",
       "}\n",
       "\n",
       ".sk-estimator-doc-link.fitted,\n",
       "a:link.sk-estimator-doc-link.fitted,\n",
       "a:visited.sk-estimator-doc-link.fitted {\n",
       "  /* fitted */\n",
       "  border: var(--sklearn-color-fitted-level-1) 1pt solid;\n",
       "  color: var(--sklearn-color-fitted-level-1);\n",
       "}\n",
       "\n",
       "/* On hover */\n",
       "div.sk-estimator:hover .sk-estimator-doc-link:hover,\n",
       ".sk-estimator-doc-link:hover,\n",
       "div.sk-label-container:hover .sk-estimator-doc-link:hover,\n",
       ".sk-estimator-doc-link:hover {\n",
       "  /* unfitted */\n",
       "  background-color: var(--sklearn-color-unfitted-level-3);\n",
       "  color: var(--sklearn-color-background);\n",
       "  text-decoration: none;\n",
       "}\n",
       "\n",
       "div.sk-estimator.fitted:hover .sk-estimator-doc-link.fitted:hover,\n",
       ".sk-estimator-doc-link.fitted:hover,\n",
       "div.sk-label-container:hover .sk-estimator-doc-link.fitted:hover,\n",
       ".sk-estimator-doc-link.fitted:hover {\n",
       "  /* fitted */\n",
       "  background-color: var(--sklearn-color-fitted-level-3);\n",
       "  color: var(--sklearn-color-background);\n",
       "  text-decoration: none;\n",
       "}\n",
       "\n",
       "/* Span, style for the box shown on hovering the info icon */\n",
       ".sk-estimator-doc-link span {\n",
       "  display: none;\n",
       "  z-index: 9999;\n",
       "  position: relative;\n",
       "  font-weight: normal;\n",
       "  right: .2ex;\n",
       "  padding: .5ex;\n",
       "  margin: .5ex;\n",
       "  width: min-content;\n",
       "  min-width: 20ex;\n",
       "  max-width: 50ex;\n",
       "  color: var(--sklearn-color-text);\n",
       "  box-shadow: 2pt 2pt 4pt #999;\n",
       "  /* unfitted */\n",
       "  background: var(--sklearn-color-unfitted-level-0);\n",
       "  border: .5pt solid var(--sklearn-color-unfitted-level-3);\n",
       "}\n",
       "\n",
       ".sk-estimator-doc-link.fitted span {\n",
       "  /* fitted */\n",
       "  background: var(--sklearn-color-fitted-level-0);\n",
       "  border: var(--sklearn-color-fitted-level-3);\n",
       "}\n",
       "\n",
       ".sk-estimator-doc-link:hover span {\n",
       "  display: block;\n",
       "}\n",
       "\n",
       "/* \"?\"-specific style due to the `<a>` HTML tag */\n",
       "\n",
       "#sk-container-id-2 a.estimator_doc_link {\n",
       "  float: right;\n",
       "  font-size: 1rem;\n",
       "  line-height: 1em;\n",
       "  font-family: monospace;\n",
       "  background-color: var(--sklearn-color-background);\n",
       "  border-radius: 1rem;\n",
       "  height: 1rem;\n",
       "  width: 1rem;\n",
       "  text-decoration: none;\n",
       "  /* unfitted */\n",
       "  color: var(--sklearn-color-unfitted-level-1);\n",
       "  border: var(--sklearn-color-unfitted-level-1) 1pt solid;\n",
       "}\n",
       "\n",
       "#sk-container-id-2 a.estimator_doc_link.fitted {\n",
       "  /* fitted */\n",
       "  border: var(--sklearn-color-fitted-level-1) 1pt solid;\n",
       "  color: var(--sklearn-color-fitted-level-1);\n",
       "}\n",
       "\n",
       "/* On hover */\n",
       "#sk-container-id-2 a.estimator_doc_link:hover {\n",
       "  /* unfitted */\n",
       "  background-color: var(--sklearn-color-unfitted-level-3);\n",
       "  color: var(--sklearn-color-background);\n",
       "  text-decoration: none;\n",
       "}\n",
       "\n",
       "#sk-container-id-2 a.estimator_doc_link.fitted:hover {\n",
       "  /* fitted */\n",
       "  background-color: var(--sklearn-color-fitted-level-3);\n",
       "}\n",
       "</style><div id=\"sk-container-id-2\" class=\"sk-top-container\"><div class=\"sk-text-repr-fallback\"><pre>RandomForestClassifier(random_state=42)</pre><b>In a Jupyter environment, please rerun this cell to show the HTML representation or trust the notebook. <br />On GitHub, the HTML representation is unable to render, please try loading this page with nbviewer.org.</b></div><div class=\"sk-container\" hidden><div class=\"sk-item\"><div class=\"sk-estimator fitted sk-toggleable\"><input class=\"sk-toggleable__control sk-hidden--visually\" id=\"sk-estimator-id-2\" type=\"checkbox\" checked><label for=\"sk-estimator-id-2\" class=\"sk-toggleable__label fitted sk-toggleable__label-arrow\"><div><div>RandomForestClassifier</div></div><div><a class=\"sk-estimator-doc-link fitted\" rel=\"noreferrer\" target=\"_blank\" href=\"https://scikit-learn.org/1.6/modules/generated/sklearn.ensemble.RandomForestClassifier.html\">?<span>Documentation for RandomForestClassifier</span></a><span class=\"sk-estimator-doc-link fitted\">i<span>Fitted</span></span></div></label><div class=\"sk-toggleable__content fitted\"><pre>RandomForestClassifier(random_state=42)</pre></div> </div></div></div></div>"
      ],
      "text/plain": [
       "RandomForestClassifier(random_state=42)"
      ]
     },
     "execution_count": 28,
     "metadata": {},
     "output_type": "execute_result"
    }
   ],
   "source": [
    "# Inicializando o classificador\n",
    "rf = RandomForestClassifier(n_estimators=100, random_state=42)\n",
    "\n",
    "# Treinando o modelo\n",
    "rf.fit(X_train, y_train)\n"
   ]
  },
  {
   "cell_type": "code",
   "execution_count": 29,
   "id": "b7bbed04-cbb2-47b1-9cf3-2b76cd7fd226",
   "metadata": {},
   "outputs": [
    {
     "name": "stdout",
     "output_type": "stream",
     "text": [
      "Accuracy: 0.7407407407407407\n"
     ]
    }
   ],
   "source": [
    "y_pred = rf.predict(X_test)\n",
    "\n",
    "# Avaliando o modelo\n",
    "accuracy = accuracy_score(y_test, y_pred)\n",
    "print(f'Accuracy: {accuracy}')"
   ]
  },
  {
   "cell_type": "code",
   "execution_count": 30,
   "id": "a2a4bef3-1bdc-494b-bb73-012d3cfb70cb",
   "metadata": {},
   "outputs": [
    {
     "name": "stdout",
     "output_type": "stream",
     "text": [
      "Fitting 5 folds for each of 720 candidates, totalling 3600 fits\n",
      "Melhores hiperparâmetros encontrados:\n",
      "{'bootstrap': True, 'max_depth': 20, 'max_features': 'sqrt', 'min_samples_leaf': 1, 'min_samples_split': 10, 'n_estimators': 200}\n",
      "              precision    recall  f1-score   support\n",
      "\n",
      "           0       0.91      0.48      0.62        21\n",
      "           1       0.74      0.97      0.84        33\n",
      "\n",
      "    accuracy                           0.78        54\n",
      "   macro avg       0.83      0.72      0.73        54\n",
      "weighted avg       0.81      0.78      0.76        54\n",
      "\n"
     ]
    }
   ],
   "source": [
    "from sklearn.datasets import load_iris\n",
    "from sklearn.model_selection import train_test_split, RandomizedSearchCV\n",
    "from sklearn.model_selection import GridSearchCV\n",
    "from sklearn.ensemble import RandomForestClassifier\n",
    "from sklearn.metrics import classification_report\n",
    "\n",
    "rf = RandomForestClassifier()\n",
    "\n",
    "# Definir os hiperparâmetros a serem ajustados\n",
    "param_grid = {\n",
    "    'n_estimators': [10, 50, 100, 200],\n",
    "    'max_features': ['sqrt', 'log2'],\n",
    "    'max_depth': [None, 10, 20, 30, 40],\n",
    "    'min_samples_split': [2, 5, 10],\n",
    "    'min_samples_leaf': [1, 2, 4],\n",
    "    'bootstrap': [True, False]\n",
    "}\n",
    "\n",
    "grid_search = GridSearchCV(rf, param_grid=param_grid, cv=5, verbose=2, n_jobs=-1)\n",
    "grid_search.fit(X_train, y_train)\n",
    "\n",
    "# Mostrar os melhores hiperparâmetros encontrados\n",
    "print(\"Melhores hiperparâmetros encontrados:\")\n",
    "print(grid_search.best_params_)\n",
    "\n",
    "# Avaliar o modelo com os melhores hiperparâmetros\n",
    "best_rf = grid_search.best_estimator_\n",
    "y_pred = best_rf.predict(X_test)\n",
    "print(classification_report(y_test, y_pred))"
   ]
  },
  {
   "cell_type": "code",
   "execution_count": 31,
   "id": "9d3db735-61df-4660-86bf-5eba43bc3e5e",
   "metadata": {},
   "outputs": [
    {
     "name": "stdout",
     "output_type": "stream",
     "text": [
      "Melhores parâmetros para Regressão Logística: {'C': 100, 'max_iter': 100, 'solver': 'liblinear'}\n",
      "Melhor acurácia: 0.8318936877076413\n"
     ]
    }
   ],
   "source": [
    "from sklearn.model_selection import GridSearchCV\n",
    "from sklearn.linear_model import LogisticRegression\n",
    "from sklearn.datasets import load_iris\n",
    "from sklearn.model_selection import train_test_split\n",
    "\n",
    "# Carregar os dados\n",
    "# Definir os hiperparâmetros para busca\n",
    "param_grid = {\n",
    "    'C': [0.01, 0.1, 1, 10, 100],  # Parâmetro de regularização\n",
    "    'solver': ['liblinear', 'lbfgs'],  # Algoritmos de otimização\n",
    "    'max_iter': [100, 200, 500]  # Número máximo de iterações\n",
    "}\n",
    "\n",
    "# Criar o modelo\n",
    "log_reg = LogisticRegression()\n",
    "\n",
    "# Grid Search com validação cruzada\n",
    "grid_search_log = GridSearchCV(log_reg, param_grid, cv=5, scoring='accuracy', n_jobs=-1)\n",
    "grid_search_log.fit(X_train, y_train)\n",
    "\n",
    "# Melhor modelo encontrado\n",
    "print(\"Melhores parâmetros para Regressão Logística:\", grid_search_log.best_params_)\n",
    "print(\"Melhor acurácia:\", grid_search_log.best_score_)"
   ]
  },
  {
   "cell_type": "code",
   "execution_count": 32,
   "id": "d82681ac-5a9c-44fb-96ea-69695cbc0683",
   "metadata": {},
   "outputs": [
    {
     "name": "stdout",
     "output_type": "stream",
     "text": [
      "Melhores parâmetros para Árvore de Decisão: {'criterion': 'gini', 'max_depth': 3, 'min_samples_leaf': 1, 'min_samples_split': 5}\n",
      "Melhor acurácia: 0.8509413067552603\n"
     ]
    }
   ],
   "source": [
    "from sklearn.tree import DecisionTreeClassifier\n",
    "\n",
    "# Definir os hiperparâmetros para busca\n",
    "param_grid_tree = {\n",
    "    'criterion': ['gini', 'entropy'],  # Critério de divisão\n",
    "    'max_depth': [3, 5, 10, None],  # Profundidade máxima\n",
    "    'min_samples_split': [2, 5, 10],  # Mínimo de amostras para dividir um nó\n",
    "    'min_samples_leaf': [1, 2, 4]  # Mínimo de amostras em cada folha\n",
    "}\n",
    "\n",
    "# Criar o modelo\n",
    "tree_clf = DecisionTreeClassifier(random_state=42)\n",
    "\n",
    "# Grid Search com validação cruzada\n",
    "grid_search_tree = GridSearchCV(tree_clf, param_grid_tree, cv=5, scoring='accuracy', n_jobs=-1)\n",
    "grid_search_tree.fit(X_train, y_train)\n",
    "\n",
    "# Melhor modelo encontrado\n",
    "print(\"Melhores parâmetros para Árvore de Decisão:\", grid_search_tree.best_params_)\n",
    "print(\"Melhor acurácia:\", grid_search_tree.best_score_)"
   ]
  },
  {
   "cell_type": "code",
   "execution_count": 33,
   "id": "0c66650e-d6f5-4a79-bbc6-5b8d8d92005a",
   "metadata": {},
   "outputs": [
    {
     "name": "stdout",
     "output_type": "stream",
     "text": [
      "Melhores parâmetros para Gradient Boosting: {'learning_rate': 0.01, 'max_depth': 3, 'n_estimators': 200, 'subsample': 1.0}\n",
      "Melhor acurácia: 0.8509413067552603\n"
     ]
    }
   ],
   "source": [
    "from sklearn.ensemble import GradientBoostingClassifier\n",
    "param_grid_gb = {\n",
    "    'n_estimators': [50, 100, 200],  # Número de árvores\n",
    "    'learning_rate': [0.01, 0.1, 0.2],  # Taxa de aprendizado\n",
    "    'max_depth': [3, 5, 7],  # Profundidade máxima da árvore\n",
    "    'subsample': [0.8, 1.0]  # Fração de amostras usadas em cada árvore\n",
    "}\n",
    "\n",
    "# Criar o modelo\n",
    "gb_clf = GradientBoostingClassifier(random_state=42)\n",
    "\n",
    "# Grid Search com validação cruzada\n",
    "grid_search_gb = GridSearchCV(gb_clf, param_grid_gb, cv=5, scoring='accuracy', n_jobs=-1)\n",
    "grid_search_gb.fit(X_train, y_train)\n",
    "\n",
    "# Melhor modelo encontrado\n",
    "print(\"Melhores parâmetros para Gradient Boosting:\", grid_search_gb.best_params_)\n",
    "print(\"Melhor acurácia:\", grid_search_gb.best_score_)"
   ]
  },
  {
   "cell_type": "code",
   "execution_count": 34,
   "id": "face6049-ea0c-472b-8318-3e4d7d49ae57",
   "metadata": {},
   "outputs": [
    {
     "name": "stdout",
     "output_type": "stream",
     "text": [
      "Melhores parâmetros para SVM: {'C': 1, 'gamma': 'auto', 'kernel': 'rbf'}\n",
      "Melhor acurácia: 0.8508305647840532\n"
     ]
    }
   ],
   "source": [
    "from sklearn.svm import SVC\n",
    "\n",
    "# Definir os hiperparâmetros para busca\n",
    "param_grid_svm = {\n",
    "    'C': [0.1, 1, 10],  # Parâmetro de regularização\n",
    "    'kernel': ['linear', 'rbf', 'poly'],  # Tipo de kernel\n",
    "    'gamma': ['scale', 'auto']  # Coeficiente para os kernels 'rbf' e 'poly'\n",
    "}\n",
    "\n",
    "# Criar o modelo\n",
    "svm_clf = SVC()\n",
    "\n",
    "# Grid Search com validação cruzada\n",
    "grid_search_svm = GridSearchCV(svm_clf, param_grid_svm, cv=5, scoring='accuracy', n_jobs=-1)\n",
    "grid_search_svm.fit(X_train, y_train)\n",
    "\n",
    "# Melhor modelo encontrado\n",
    "print(\"Melhores parâmetros para SVM:\", grid_search_svm.best_params_)\n",
    "print(\"Melhor acurácia:\", grid_search_svm.best_score_)"
   ]
  },
  {
   "cell_type": "code",
   "execution_count": 15,
   "id": "a6dbe206-7f5b-44c4-9f22-26510e3b25bc",
   "metadata": {},
   "outputs": [
    {
     "name": "stdout",
     "output_type": "stream",
     "text": [
      "              precision    recall  f1-score   support\n",
      "\n",
      "           0       0.76      0.67      0.71        24\n",
      "           1       0.87      0.91      0.89        57\n",
      "\n",
      "    accuracy                           0.84        81\n",
      "   macro avg       0.81      0.79      0.80        81\n",
      "weighted avg       0.84      0.84      0.84        81\n",
      "\n"
     ]
    }
   ],
   "source": [
    "print(classification_report(y_test, y_pred))"
   ]
  },
  {
   "cell_type": "code",
   "execution_count": 18,
   "id": "be9604b0-1992-4b93-bfd4-5832014a51f7",
   "metadata": {},
   "outputs": [
    {
     "name": "stdout",
     "output_type": "stream",
     "text": [
      "<class 'pandas.core.frame.DataFrame'>\n",
      "RangeIndex: 268 entries, 0 to 267\n",
      "Data columns (total 4 columns):\n",
      " #   Column  Non-Null Count  Dtype  \n",
      "---  ------  --------------  -----  \n",
      " 0   1_c     268 non-null    float64\n",
      " 1   1_f     268 non-null    float64\n",
      " 2   1_n     268 non-null    float64\n",
      " 3   y       268 non-null    int64  \n",
      "dtypes: float64(3), int64(1)\n",
      "memory usage: 8.5 KB\n",
      "None\n"
     ]
    }
   ],
   "source": [
    "print(df_V1.info())"
   ]
  },
  {
   "cell_type": "code",
   "execution_count": 19,
   "id": "3466ab45-b399-4b4d-89ad-1d270a300464",
   "metadata": {},
   "outputs": [
    {
     "name": "stdout",
     "output_type": "stream",
     "text": [
      "              1_c         1_f         1_n           y\n",
      "count  268.000000  268.000000  268.000000  268.000000\n",
      "mean    58.835587   86.828278    5.801973    0.727612\n",
      "std      3.132177   16.212508    2.706306    0.446021\n",
      "min     32.000000   17.967500    0.000000    0.000000\n",
      "25%     58.666667   85.718333    4.291667    0.000000\n",
      "50%     58.666667   92.012722    6.650000    1.000000\n",
      "75%     58.666667   96.560250    8.016667    1.000000\n",
      "max     78.000000  100.000000    9.783333    1.000000\n"
     ]
    }
   ],
   "source": [
    "print(df_V1.describe())"
   ]
  },
  {
   "cell_type": "code",
   "execution_count": 21,
   "id": "bc2d4787-e710-4ac9-bf4e-3d9ddd17c4b7",
   "metadata": {},
   "outputs": [
    {
     "data": {
      "image/png": "[encoded data removed]",
      "text/plain": [
       "<Figure size 1000x600 with 2 Axes>"
      ]
     },
     "metadata": {},
     "output_type": "display_data"
    }
   ],
   "source": [
    "import matplotlib.pyplot as plt\n",
    "import seaborn as sns\n",
    "plt.figure(figsize=(10, 6))\n",
    "sns.heatmap(df_V1.corr(), annot=True, cmap=\"coolwarm\", fmt=\".2f\")\n",
    "plt.title(\"Matriz de Correlação\")\n",
    "plt.show()"
   ]
  },
  {
   "cell_type": "code",
   "execution_count": 43,
   "id": "cb8f5c9f-c342-490a-8286-2d3bb6b9bb32",
   "metadata": {},
   "outputs": [
    {
     "data": {
      "image/png": "[encoded data removed]",
      "text/plain": [
       "<Figure size 800x500 with 1 Axes>"
      ]
     },
     "metadata": {},
     "output_type": "display_data"
    }
   ],
   "source": [
    "plt.figure(figsize=(8, 5))\n",
    "sns.histplot(df_V1['1_n'], bins=40, kde=True)\n",
    "plt.title(\"Distribuição das Notas\")\n",
    "plt.show()"
   ]
  },
  {
   "cell_type": "code",
   "execution_count": 45,
   "id": "0c8ca981-e904-4c7b-bcbe-9981dc4b67db",
   "metadata": {},
   "outputs": [
    {
     "data": {
      "image/png": "[encoded data removed]",
      "text/plain": [
       "<Figure size 800x500 with 1 Axes>"
      ]
     },
     "metadata": {},
     "output_type": "display_data"
    }
   ],
   "source": [
    "plt.figure(figsize=(8, 5))\n",
    "sns.histplot(df_V1['1_f'], bins=50, kde=True)\n",
    "plt.title(\"Distribuição das Frequências\")\n",
    "plt.show()"
   ]
  },
  {
   "cell_type": "code",
   "execution_count": 41,
   "id": "74ab5e53-abdc-4f0e-97c7-eb26b54db30a",
   "metadata": {},
   "outputs": [
    {
     "data": {
      "image/png": "[encoded data removed]",
      "text/plain": [
       "<Figure size 800x500 with 1 Axes>"
      ]
     },
     "metadata": {},
     "output_type": "display_data"
    }
   ],
   "source": [
    "plt.figure(figsize=(8, 5))\n",
    "sns.histplot(df_V1['1_c'], bins=45, kde=True)\n",
    "plt.title(\"Distribuição dos Créditos\")\n",
    "plt.show()"
   ]
  },
  {
   "cell_type": "code",
   "execution_count": 46,
   "id": "282d7950-7552-4c32-a459-83d4875e13fe",
   "metadata": {},
   "outputs": [
    {
     "data": {
      "image/png": "[encoded data removed]",
      "text/plain": [
       "<Figure size 800x500 with 1 Axes>"
      ]
     },
     "metadata": {},
     "output_type": "display_data"
    }
   ],
   "source": [
    "plt.figure(figsize=(8, 5))\n",
    "sns.boxplot(hue=\"1_n\", y=\"1_f\", data=df_V1, palette=\"coolwarm\")\n",
    "plt.title(\"Relação entre Renda e Inadimplência\")\n",
    "plt.show()"
   ]
  },
  {
   "cell_type": "code",
   "execution_count": 50,
   "id": "9fb5d30b-956d-4d8b-a616-fd4ca0ea9f4d",
   "metadata": {},
   "outputs": [
    {
     "data": {
      "image/png": "[encoded data removed]",
      "text/plain": [
       "<Figure size 800x500 with 1 Axes>"
      ]
     },
     "metadata": {},
     "output_type": "display_data"
    }
   ],
   "source": [
    "plt.figure(figsize=(8, 5))\n",
    "sns.boxplot(x=df_V1[\"1_n\"])\n",
    "plt.title(\"Boxplot da Renda dos Clientes\")\n",
    "plt.show()"
   ]
  },
  {
   "cell_type": "code",
   "execution_count": null,
   "id": "2c46b7a0-ffa9-4eb8-8585-a4ed2bb88ad6",
   "metadata": {},
   "outputs": [],
   "source": []
  }
 ],
 "metadata": {
  "kernelspec": {
   "display_name": "Python 3 (ipykernel)",
   "language": "python",
   "name": "python3"
  },
  "language_info": {
   "codemirror_mode": {
    "name": "ipython",
    "version": 3
   },
   "file_extension": ".py",
   "mimetype": "text/x-python",
   "name": "python",
   "nbconvert_exporter": "python",
   "pygments_lexer": "ipython3",
   "version": "3.12.3"
  }
 },
 "nbformat": 4,
 "nbformat_minor": 5
}
